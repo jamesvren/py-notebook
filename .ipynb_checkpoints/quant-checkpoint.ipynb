{
 "cells": [
  {
   "cell_type": "markdown",
   "metadata": {},
   "source": [
    "# 量化分析股票 - 基本面\n",
    "\n",
    "## 获取股票财务报表"
   ]
  },
  {
   "cell_type": "code",
   "execution_count": 13,
   "metadata": {},
   "outputs": [],
   "source": [
    "import requests\n",
    "import re\n",
    "from io import StringIO"
   ]
  },
  {
   "cell_type": "code",
   "execution_count": 2,
   "metadata": {},
   "outputs": [],
   "source": [
    "import pandas as pd\n",
    "import numpy as np"
   ]
  },
  {
   "cell_type": "code",
   "execution_count": 3,
   "metadata": {},
   "outputs": [],
   "source": [
    "stock = '600282'"
   ]
  },
  {
   "cell_type": "code",
   "execution_count": 3,
   "metadata": {},
   "outputs": [],
   "source": [
    "# 同花顺数据，excel格式\n",
    "bs10jqk_year = 'http://basic.10jqka.com.cn/api/stock/export.php?export=debt&type=year&code=' + stock\n",
    "bs10jqk = 'http://basic.10jqka.com.cn/api/stock/export.php?export=debt&type=simple&code=' + stock\n",
    "pf10jqk_year = 'http://basic.10jqka.com.cn/api/stock/export.php?export=benefit&type=year&code=' + stock\n",
    "pf10jqk = 'http://basic.10jqka.com.cn/api/stock/export.php?export=benefit&type=simple&code=' + stock\n",
    "cf10jqk_year= 'http://basic.10jqka.com.cn/api/stock/export.php?export=cash&type=year&code=' + stock\n",
    "cf10jqk_year= 'http://basic.10jqka.com.cn/api/stock/export.php?export=cash&type=simple&code=' + stock\n",
    "page_index = 1;\n",
    "stockinfo = 'http://q.10jqka.com.cn/index/index/board/all/field/zdf/order/desc/page/'+ page_index +'/ajax/1/'"
   ]
  },
  {
   "cell_type": "code",
   "execution_count": 4,
   "metadata": {},
   "outputs": [],
   "source": [
    "# 网易数据，和新浪的相同，但是提供数据下载，csv格式\n",
    "bs163 = 'http://quotes.money.163.com/service/zcfzb_' + stock + '.html'\n",
    "bs163_year = 'http://quotes.money.163.com/service/zcfzb_' + stock + '.html?type=year'\n",
    "pf163 = 'http://quotes.money.163.com/service/lrb_' + stock + '.html'\n",
    "pf163_year = 'http://quotes.money.163.com/service/lrb_' + stock + '.html?type=year'\n",
    "cf163 = 'http://quotes.money.163.com/service/xjllb_' + stock + '.html'\n",
    "cf163_year = 'http://quotes.money.163.com/service/xjllb_' + stock + '.html?type=year'"
   ]
  },
  {
   "cell_type": "code",
   "execution_count": 9,
   "metadata": {},
   "outputs": [],
   "source": [
    "def getFinancialStatment(url):\n",
    "    hd = {'User-Agent': 'Chrome 10'}\n",
    "    res = requests.get(url, headers=hd)\n",
    "    if (res.status_code == 200):\n",
    "        filename = res.headers['Content-Disposition'].split()[1].split('=')[1]\n",
    "        print (filename)\n",
    "    return {'name': filename, 'text': res.text}"
   ]
  },
  {
   "cell_type": "code",
   "execution_count": 18,
   "metadata": {},
   "outputs": [
    {
     "name": "stdout",
     "output_type": "stream",
     "text": [
      "zcfzb600282.csv\n"
     ]
    }
   ],
   "source": [
    "# 处理 资产负债表\n",
    "balanceSheet = bs163_year\n",
    "csv = getFinancialStatment(balanceSheet)\n",
    "csvFile = StringIO(re.sub('--', '0', csv.get('text')))\n",
    "report = pd.read_csv(csvFile, index_col=0, encoding='utf-8')"
   ]
  },
  {
   "cell_type": "code",
   "execution_count": 19,
   "metadata": {
    "scrolled": true
   },
   "outputs": [
    {
     "data": {
      "text/html": [
       "<div>\n",
       "<style scoped>\n",
       "    .dataframe tbody tr th:only-of-type {\n",
       "        vertical-align: middle;\n",
       "    }\n",
       "\n",
       "    .dataframe tbody tr th {\n",
       "        vertical-align: top;\n",
       "    }\n",
       "\n",
       "    .dataframe thead th {\n",
       "        text-align: right;\n",
       "    }\n",
       "</style>\n",
       "<table border=\"1\" class=\"dataframe\">\n",
       "  <thead>\n",
       "    <tr style=\"text-align: right;\">\n",
       "      <th></th>\n",
       "      <th>2018-12-31</th>\n",
       "      <th>2017-12-31</th>\n",
       "      <th>2016-12-31</th>\n",
       "      <th>2015-12-31</th>\n",
       "      <th>2014-12-31</th>\n",
       "      <th>2013-12-31</th>\n",
       "      <th>2012-12-31</th>\n",
       "      <th>2011-12-31</th>\n",
       "      <th>2010-12-31</th>\n",
       "      <th>2009-12-31</th>\n",
       "      <th>2008-12-31</th>\n",
       "      <th>2007-12-31</th>\n",
       "      <th>2006-12-31</th>\n",
       "      <th>Unnamed: 14</th>\n",
       "    </tr>\n",
       "    <tr>\n",
       "      <th>报告日期</th>\n",
       "      <th></th>\n",
       "      <th></th>\n",
       "      <th></th>\n",
       "      <th></th>\n",
       "      <th></th>\n",
       "      <th></th>\n",
       "      <th></th>\n",
       "      <th></th>\n",
       "      <th></th>\n",
       "      <th></th>\n",
       "      <th></th>\n",
       "      <th></th>\n",
       "      <th></th>\n",
       "      <th></th>\n",
       "    </tr>\n",
       "  </thead>\n",
       "  <tbody>\n",
       "    <tr>\n",
       "      <th>货币资金(万元)</th>\n",
       "      <td>306734</td>\n",
       "      <td>274802</td>\n",
       "      <td>329542</td>\n",
       "      <td>439179</td>\n",
       "      <td>492061</td>\n",
       "      <td>275167</td>\n",
       "      <td>346393</td>\n",
       "      <td>346231</td>\n",
       "      <td>605126</td>\n",
       "      <td>197783</td>\n",
       "      <td>121587</td>\n",
       "      <td>114310</td>\n",
       "      <td>110843</td>\n",
       "      <td>NaN</td>\n",
       "    </tr>\n",
       "    <tr>\n",
       "      <th>结算备付金(万元)</th>\n",
       "      <td>0</td>\n",
       "      <td>0</td>\n",
       "      <td>0</td>\n",
       "      <td>0</td>\n",
       "      <td>0</td>\n",
       "      <td>0</td>\n",
       "      <td>0</td>\n",
       "      <td>0</td>\n",
       "      <td>0</td>\n",
       "      <td>0</td>\n",
       "      <td>0</td>\n",
       "      <td>0</td>\n",
       "      <td>0</td>\n",
       "      <td>NaN</td>\n",
       "    </tr>\n",
       "    <tr>\n",
       "      <th>拆出资金(万元)</th>\n",
       "      <td>0</td>\n",
       "      <td>0</td>\n",
       "      <td>0</td>\n",
       "      <td>0</td>\n",
       "      <td>0</td>\n",
       "      <td>0</td>\n",
       "      <td>0</td>\n",
       "      <td>0</td>\n",
       "      <td>0</td>\n",
       "      <td>0</td>\n",
       "      <td>0</td>\n",
       "      <td>0</td>\n",
       "      <td>0</td>\n",
       "      <td>NaN</td>\n",
       "    </tr>\n",
       "    <tr>\n",
       "      <th>交易性金融资产(万元)</th>\n",
       "      <td>17210</td>\n",
       "      <td>23624</td>\n",
       "      <td>80351</td>\n",
       "      <td>66074</td>\n",
       "      <td>3395</td>\n",
       "      <td>145698</td>\n",
       "      <td>140707</td>\n",
       "      <td>102416</td>\n",
       "      <td>15786</td>\n",
       "      <td>0</td>\n",
       "      <td>0</td>\n",
       "      <td>0</td>\n",
       "      <td>0</td>\n",
       "      <td>NaN</td>\n",
       "    </tr>\n",
       "    <tr>\n",
       "      <th>衍生金融资产(万元)</th>\n",
       "      <td>0</td>\n",
       "      <td>0</td>\n",
       "      <td>0</td>\n",
       "      <td>0</td>\n",
       "      <td>0</td>\n",
       "      <td>0</td>\n",
       "      <td>0</td>\n",
       "      <td>0</td>\n",
       "      <td>0</td>\n",
       "      <td>0</td>\n",
       "      <td>0</td>\n",
       "      <td>0</td>\n",
       "      <td>0</td>\n",
       "      <td>NaN</td>\n",
       "    </tr>\n",
       "  </tbody>\n",
       "</table>\n",
       "</div>"
      ],
      "text/plain": [
       "             2018-12-31  2017-12-31  2016-12-31  2015-12-31  2014-12-31  \\\n",
       "报告日期                                                                      \n",
       "货币资金(万元)         306734      274802      329542      439179      492061   \n",
       "结算备付金(万元)             0           0           0           0           0   \n",
       "拆出资金(万元)              0           0           0           0           0   \n",
       "交易性金融资产(万元)       17210       23624       80351       66074        3395   \n",
       "衍生金融资产(万元)            0           0           0           0           0   \n",
       "\n",
       "             2013-12-31  2012-12-31  2011-12-31  2010-12-31  2009-12-31  \\\n",
       "报告日期                                                                      \n",
       "货币资金(万元)         275167      346393      346231      605126      197783   \n",
       "结算备付金(万元)             0           0           0           0           0   \n",
       "拆出资金(万元)              0           0           0           0           0   \n",
       "交易性金融资产(万元)      145698      140707      102416       15786           0   \n",
       "衍生金融资产(万元)            0           0           0           0           0   \n",
       "\n",
       "             2008-12-31  2007-12-31  2006-12-31 Unnamed: 14  \n",
       "报告日期                                                         \n",
       "货币资金(万元)         121587      114310      110843         NaN  \n",
       "结算备付金(万元)             0           0           0         NaN  \n",
       "拆出资金(万元)              0           0           0         NaN  \n",
       "交易性金融资产(万元)           0           0           0         NaN  \n",
       "衍生金融资产(万元)            0           0           0         NaN  "
      ]
     },
     "execution_count": 19,
     "metadata": {},
     "output_type": "execute_result"
    }
   ],
   "source": [
    "report.head()"
   ]
  },
  {
   "cell_type": "code",
   "execution_count": 20,
   "metadata": {
    "scrolled": true
   },
   "outputs": [
    {
     "name": "stdout",
     "output_type": "stream",
     "text": [
      "<class 'pandas.core.frame.DataFrame'>\n",
      "Index: 108 entries, 货币资金(万元) to 负债和所有者权益(或股东权益)总计(万元)\n",
      "Data columns (total 14 columns):\n",
      "2018-12-31     108 non-null int64\n",
      "2017-12-31     108 non-null int64\n",
      "2016-12-31     108 non-null int64\n",
      "2015-12-31     108 non-null int64\n",
      "2014-12-31     108 non-null int64\n",
      "2013-12-31     108 non-null int64\n",
      "2012-12-31     108 non-null int64\n",
      "2011-12-31     108 non-null int64\n",
      "2010-12-31     108 non-null int64\n",
      "2009-12-31     108 non-null int64\n",
      "2008-12-31     108 non-null int64\n",
      "2007-12-31     108 non-null int64\n",
      "2006-12-31     108 non-null int64\n",
      "Unnamed: 14    1 non-null object\n",
      "dtypes: int64(13), object(1)\n",
      "memory usage: 12.7+ KB\n"
     ]
    }
   ],
   "source": [
    "report.info()"
   ]
  },
  {
   "cell_type": "markdown",
   "metadata": {},
   "source": [
    "    保存csv文件到本地，注意文件编码格式一定要是utf-8-sig（带BOM），不然excel打开会乱码"
   ]
  },
  {
   "cell_type": "code",
   "execution_count": 21,
   "metadata": {},
   "outputs": [],
   "source": [
    "report.to_csv(csv.get('name'), encoding='utf-8-sig')"
   ]
  },
  {
   "cell_type": "markdown",
   "metadata": {},
   "source": [
    "    整理资产负债表\n",
    "- 整理资产 看扩张策略\n",
    "**计算经营性资产\n",
    "  - 又可以分为五类：\n",
    "  1. 现金\n",
    "  2. 债权\n",
    "  3. 存货\n",
    "  4. 固定资产 （投资性房地产是以获得租金为目的，因而属于经营资产）\n",
    "  5. 无形资产 (无形资产，开发支出，商誉)\n",
    "\n",
    "**计算投资性资产\n",
    "  - 包括四项\n",
    "  1. 交易性金融资产\n",
    "  2. 可供出售金融资产\n",
    "  3. 持有至到期投资\n",
    "  4. 长期股权投资\n",
    "  \n",
    "**计算各资产占总资产的比率\n",
    "\n",
    "- 整理负债和权益 看引资策略\n",
    "**计算经营负债\n",
    "  - 关注：应付票据，应付账款，预收账款，应付手续费及佣金，应付职工薪酬，应交税费，应付保证金，递延所得税负债，长期递延收益\n",
    "**计算金融负债\n",
    "  - 关注：短期借款，一年内到期的非流动负债，长期借款，应付短期债券，应付债券\n",
    "**计算股东入资\n",
    "  - 包括：实收资本(或股本)，资本公积\n",
    "**计算利润积累\n",
    "  - 包括：盈余公积，未分配利润\n"
   ]
  },
  {
   "cell_type": "code",
   "execution_count": 44,
   "metadata": {},
   "outputs": [
    {
     "data": {
      "text/plain": [
       "'2006-12-31'"
      ]
     },
     "execution_count": 44,
     "metadata": {},
     "output_type": "execute_result"
    }
   ],
   "source": [
    "report['2018-12-31']\n",
    "report.columns[-1]"
   ]
  },
  {
   "cell_type": "code",
   "execution_count": 36,
   "metadata": {},
   "outputs": [],
   "source": [
    "del report[report.columns[-1]]"
   ]
  },
  {
   "cell_type": "code",
   "execution_count": 38,
   "metadata": {},
   "outputs": [
    {
     "data": {
      "text/plain": [
       "Index(['2018-12-31', '2017-12-31', '2016-12-31', '2015-12-31', '2014-12-31',\n",
       "       '2013-12-31', '2012-12-31', '2011-12-31', '2010-12-31', '2009-12-31',\n",
       "       '2008-12-31', '2007-12-31', '2006-12-31'],\n",
       "      dtype='object')"
      ]
     },
     "execution_count": 38,
     "metadata": {},
     "output_type": "execute_result"
    }
   ],
   "source": [
    "report.keys()"
   ]
  },
  {
   "cell_type": "code",
   "execution_count": 37,
   "metadata": {},
   "outputs": [
    {
     "data": {
      "text/plain": [
       "Index(['货币资金(万元)', '结算备付金(万元)', '拆出资金(万元)', '交易性金融资产(万元)', '衍生金融资产(万元)',\n",
       "       '应收票据(万元)', '应收账款(万元)', '预付款项(万元)', '应收保费(万元)', '应收分保账款(万元)',\n",
       "       ...\n",
       "       '盈余公积(万元)', '一般风险准备(万元)', '未确定的投资损失(万元)', '未分配利润(万元)', '拟分配现金股利(万元)',\n",
       "       '外币报表折算差额(万元)', '归属于母公司股东权益合计(万元)', '少数股东权益(万元)', '所有者权益(或股东权益)合计(万元)',\n",
       "       '负债和所有者权益(或股东权益)总计(万元)'],\n",
       "      dtype='object', name='报告日期', length=108)"
      ]
     },
     "execution_count": 37,
     "metadata": {},
     "output_type": "execute_result"
    }
   ],
   "source": [
    "report.index"
   ]
  },
  {
   "cell_type": "code",
   "execution_count": null,
   "metadata": {
    "scrolled": true
   },
   "outputs": [],
   "source": [
    "report.loc['货币资金(万元)'].values"
   ]
  },
  {
   "cell_type": "code",
   "execution_count": null,
   "metadata": {
    "scrolled": true
   },
   "outputs": [],
   "source": [
    "report.loc['货币资金(万元)'].astype(np.float)"
   ]
  },
  {
   "cell_type": "code",
   "execution_count": null,
   "metadata": {
    "scrolled": true
   },
   "outputs": [],
   "source": [
    "# 经营性资产\n",
    "report.loc['货币资金(万元)'].astype(np.float) + report.loc['应收票据(万元)'].astype(np.float)"
   ]
  }
 ],
 "metadata": {
  "kernelspec": {
   "display_name": "Python 3",
   "language": "python",
   "name": "python3"
  },
  "language_info": {
   "codemirror_mode": {
    "name": "ipython",
    "version": 3
   },
   "file_extension": ".py",
   "mimetype": "text/x-python",
   "name": "python",
   "nbconvert_exporter": "python",
   "pygments_lexer": "ipython3",
   "version": "3.6.7"
  }
 },
 "nbformat": 4,
 "nbformat_minor": 2
}
